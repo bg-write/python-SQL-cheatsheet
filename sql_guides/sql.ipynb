{
 "cells": [
  {
   "attachments": {},
   "cell_type": "markdown",
   "metadata": {},
   "source": [
    "# SQL\n",
    "Structured Query Language (pronounced \"sequel\") is the language used to communicate with relational database management systems (RDBMS). The world's most popular databases still run on SQL. This is how we answer questions with data.\n",
    "\n",
    "###  Popular \"flavors\" of SQL Databases\n",
    "- [MySQL](https://www.mysql.com/)\n",
    "- [PostgreSQL](https://www.postgresql.org/)\n",
    "- [Microsoft SQL Server](https://www.microsoft.com/en-us/sql-server/sql-server-downloads)\n",
    "- [SQLite](https://www.sqlite.org/index.html)\n",
    "- [Oracle](https://www.oracle.com/database/sqldeveloper/)\n",
    "\n",
    "### Relational database keys\n",
    "- Primary Keys (PK): uniquely identifies each row in a table<br>\n",
    "- Foreign Keys (FK): holds the value of the related parent's PK (i.e. if Kevin Durant's team ID equals \"5,\" \"5\" can be the foreign key to another table that identifies the team \"Nets\")\n",
    "\n",
    "***"
   ]
  },
  {
   "attachments": {},
   "cell_type": "markdown",
   "metadata": {},
   "source": [
    "## To Write and Print Variables"
   ]
  },
  {
   "cell_type": "code",
   "execution_count": null,
   "metadata": {},
   "outputs": [],
   "source": [
    "msg = 'Hello, Jupyter and SQL'\n",
    "print(msg) # note that clicking in the bottom right of this code block allows us to change the language i.e. this block is in Python"
   ]
  },
  {
   "attachments": {},
   "cell_type": "markdown",
   "metadata": {},
   "source": [
    "***\n",
    "\n",
    "## SQL Syntax & Commands"
   ]
  },
  {
   "attachments": {},
   "cell_type": "markdown",
   "metadata": {},
   "source": [
    "\n",
    "This is an SQL statement, made up of clauses that read or mutate a database\n",
    "\n",
    "`SELECT` _what column(s)_ `FROM` _what table(s)_<br>\n",
    "`WHERE` _filter condition_ `AND` _another condition_ `OR` _another condition_<br>\n",
    "`JOIN` _connect data from different tables_<br>\n",
    "<br>\n",
    "The first line includes the SQL Identifiers: `SELECT` & `FROM`\n",
    "\n",
    "#### Basic Examples\n",
    "`SELECT` * `FROM` movies<br>\n",
    "`SELECT` title `FROM` movies<br>\n",
    "`SELECT` title, director `FROM` movies<br>\n",
    "`SELECT` * `FROM` movies `WHERE` id=6<br>\n",
    "`SELECT` * `FROM` movies `WHERE` year `BETWEEN` 2000 `AND` 2010<br>\n",
    "`SELECT` * `FROM` movies `WHERE` year `NOT BETWEEN` 2000 `AND` 2010<br>\n",
    "`SELECT` * `FROM` movies `WHERE` id <= 5<br>"
   ]
  },
  {
   "attachments": {},
   "cell_type": "markdown",
   "metadata": {},
   "source": [
    "***"
   ]
  },
  {
   "attachments": {},
   "cell_type": "markdown",
   "metadata": {},
   "source": [
    "## Helpful SQL links\n",
    "- __[SQL in 100 Seconds (Fireship)](https://www.youtube.com/watch?v=zsjvFFKOm3c)__\n",
    "- __[Starting With and Running Jupyter Notebooks (VS Code)](https://code.visualstudio.com/docs/datascience/jupyter-notebooks)__\n",
    "- __[Jupyter markdown cheatsheet (IBM)](https://www.ibm.com/docs/en/watson-studio-local/1.2.3?topic=notebooks-markdown-jupyter-cheatsheet)__\n",
    "- __[Mode SQL tutorial](https://mode.com/sql-tutorial/introduction-to-sql/)__\n",
    "- __[SQLBolt SQL tutorial](https://sqlbolt.com/)__\n",
    "- __[How to create tables in PostgreSQL](https://databasefaqs.com/create-a-table-in-postgresql/)__\n",
    "- __[How to insert a row in PostgreSQL pgAdmin](https://stackoverflow.com/questions/22755230/how-to-insert-a-row-in-postgresql-pgadmin)__\n",
    "- __[How to use VS Code to run SQL on a database](https://www.youtube.com/watch?v=C0y35FpiLRA)__\n",
    "- Next Step: Connect this .ipynb file to pgAdmin"
   ]
  },
  {
   "cell_type": "markdown",
   "metadata": {},
   "source": []
  }
 ],
 "metadata": {
  "kernelspec": {
   "display_name": "Python 3.8.6 64-bit ('3.8.6')",
   "language": "python",
   "name": "python3"
  },
  "language_info": {
   "codemirror_mode": {
    "name": "ipython",
    "version": 3
   },
   "file_extension": ".py",
   "mimetype": "text/x-python",
   "name": "python",
   "nbconvert_exporter": "python",
   "pygments_lexer": "ipython3",
   "version": "3.8.6"
  },
  "orig_nbformat": 4,
  "vscode": {
   "interpreter": {
    "hash": "b53c34dc0538ab1f53dc05d0ac84d492291bf9b01f93f7a873a1d1420ea6f988"
   }
  }
 },
 "nbformat": 4,
 "nbformat_minor": 2
}
