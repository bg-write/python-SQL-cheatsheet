{
 "cells": [
  {
   "attachments": {},
   "cell_type": "markdown",
   "metadata": {},
   "source": [
    "# SQL\n",
    "Structured Query Language (pronounced \"sequel\") is the language used to communicate with relational database management systems (RDBMS). The world's most popular databases still run on SQL. This is how we answer questions with data.\n",
    "\n",
    "###  Popular \"flavors\" of SQL Databases\n",
    "- [MySQL](https://www.mysql.com/)\n",
    "- [PostgreSQL](https://www.postgresql.org/)\n",
    "- [Microsoft SQL Server](https://www.microsoft.com/en-us/sql-server/sql-server-downloads)\n",
    "- [SQLite](https://www.sqlite.org/index.html)\n",
    "- [Oracle](https://www.oracle.com/database/sqldeveloper/)\n",
    "\n",
    "### Relational database keys\n",
    "- Primary Keys (PK): uniquely identifies each row in a table<br>\n",
    "- Foreign Keys (FK): holds the value of the related parent's PK (i.e. if Kevin Durant's team ID equals \"5,\" \"5\" can be the foreign key to another table that identifies the team \"Nets\")\n",
    "\n",
    "***"
   ]
  },
  {
   "attachments": {},
   "cell_type": "markdown",
   "metadata": {},
   "source": [
    "## To Write and Print Variables"
   ]
  },
  {
   "cell_type": "code",
   "execution_count": null,
   "metadata": {},
   "outputs": [],
   "source": [
    "msg = 'Hello, Jupyter and SQL'\n",
    "print(msg) # note that clicking in the bottom right of this code block allows us to change the language i.e. this block is in Python"
   ]
  },
  {
   "attachments": {},
   "cell_type": "markdown",
   "metadata": {},
   "source": [
    "***\n",
    "\n",
    "## SQL Syntax & Commands (With Examples)"
   ]
  },
  {
   "attachments": {},
   "cell_type": "markdown",
   "metadata": {},
   "source": [
    "\n",
    "This is an SQL statement, made up of clauses that read or mutate a database. The following examples are pulled from SQLBolt.\n",
    "\n",
    "`SELECT` _what column(s)_ `FROM` _what table(s)_<br>\n",
    "`WHERE` _filter condition_ `AND` _another condition_ `OR` _another condition_<br>\n",
    "`JOIN` _connect data from different tables_<br>\n",
    "The first line includes the SQL Identifiers: `SELECT` & `FROM`\n",
    "\n",
    "#### Basic Examples (One Table)\n",
    "`SELECT` * `FROM` movies<br>\n",
    "`SELECT` title `FROM` movies<br>\n",
    "`SELECT` title, director `FROM` movies<br>\n",
    "`SELECT` * `FROM` movies `WHERE` id=6<br>\n",
    "`SELECT` * `FROM` movies `WHERE` year `BETWEEN` 2000 `AND` 2010<br>\n",
    "`SELECT` * `FROM` movies `WHERE` year `NOT BETWEEN` 2000 `AND` 2010<br>\n",
    "`SELECT` * `FROM` movies `WHERE` id <= 5<br>\n",
    "`SELECT` * `FROM` movies `WHERE` title `LIKE` \"Toy Story%\"<br>\n",
    "`SELECT` * `FROM` movies `WHERE` director=\"John Lasseter\"<br>\n",
    "`SELECT` * `FROM` movies `WHERE` director!=\"John Lasseter\"<br>\n",
    "`SELECT` * `FROM` movies `WHERE` title `LIKE` \"WALL-%\"<br>\n",
    "`SELECT` `DISTINCT` director `FROM` movies `ORDER BY` director `ASC`<br>\n",
    "`SELECT` * `FROM` movies `ORDER BY` year `DESC` `LIMIT` 4<br>\n",
    "`SELECT` * `FROM` movies `ORDER BY` title `ASC` `LIMIT` 5 `OFFSET` 5<br>\n",
    "`SELECT` * `FROM` movies `WHERE` title `IS NULL`<br>\n",
    "`SELECT` * `FROM` movies `WHERE` title `IS NOT NULL`\n",
    "\n",
    "#### More Examples (Multiple Tables)\n",
    "`SELECT` * `FROM` movies `INNER JOIN` boxoffice `ON` id=movie_id<br>\n",
    "`SELECT` * `FROM` movies `INNER JOIN` boxoffice `ON` id=movie_id `WHERE` international_sales>domestic_sales<br>\n",
    "`SELECT` * `FROM` movies `INNER JOIN` boxoffice `ON` id=movie_id `ORDER BY` rating `DESC`\n",
    "\n",
    "#### Multiple Tables, But With Asymmetric Data\n",
    "`SELECT` `DISTINCT` building_name, role `FROM` buildings `LEFT JOIN` employees `ON` building_name=building<br>\n",
    "`SELECT` * `FROM` buildings `LEFT JOIN` employees `ON` building_name=building `WHERE` role `IS NULL`\n",
    "\n",
    "#### Queries & Expressions\n",
    "`SELECT` title, (domestic_sales+international_sales)/1000000 `AS` gross_sales_millions\n",
    "`FROM` movies `JOIN` boxoffice `ON` movies.id=boxoffice.movie_id<br>\n",
    "`SELECT` title, rating*10 `AS` rating_percent `FROM` movies `JOIN` boxoffice `ON` movies.id =boxoffice.movie_id<br>\n",
    "`SELECT` title, year `FROM` movies `WHERE` year%2=0\n",
    "\n",
    "#### PICK UP FROM LESSON 10 ..."
   ]
  },
  {
   "attachments": {},
   "cell_type": "markdown",
   "metadata": {},
   "source": [
    "***\n",
    "## Basic SQL Commands"
   ]
  },
  {
   "attachments": {},
   "cell_type": "markdown",
   "metadata": {},
   "source": [
    "#### Searching\n",
    "`SELECT`: Select data from a database<br>\n",
    "`FROM`: Specify the database table we're pulling from<br>\n",
    "`WHERE`: Filter query (use `IN` to specify multiple values)<br>\n",
    "`HAVING`: Same as `WHERE`, but filtering groups<br>\n",
    "`AS`: Rename column, table, or expression with an alias<br>\n",
    "`JOIN`: Combine rows from 2+ tables<br>\n",
    "`AND`: Combine all query conditions<br>\n",
    "`OR`: Combine at least one query condition<br>\n",
    "`LIMIT`: Limit rows returned<br>\n",
    "`CASE`: Return value on a specific condition<br>\n",
    "`IN NULL`: Return rows only with NULL value<br>\n",
    "`LIKE`: Pattern search in a column<br>\n",
    "`GROUP BY`: Group data into logical sets<br>\n",
    "`ORDER BY`: `ASC` is default, use `DESC` to reverse\n",
    "\n",
    "#### Manipulating\n",
    "`COMMIT`: Write transactions to the database<br>\n",
    "`ROLLBACK`: Undo a transaction block<br>\n",
    "`ALTER TABLE`: Add/Remove columns from a table<br>\n",
    "`UPDATE`: Update table data<br>\n",
    "`CREATE`: Create `TABLE`, `DATABASE`, `INDEX`, or `VIEW`<br>\n",
    "`DROP`: Delete `TABLE`, `DATABASE`, or `INDEX`<br>\n",
    "`DELETE`: Delete rows from table<br>\n",
    "`INSERT`: Add a single row to the table\n",
    "\n",
    "#### Basic Math\n",
    "`COUNT`: Count the number of rows<br>\n",
    "`SUM`: Return the sum of a column<br>\n",
    "`AVG`: Return the average of a column<br>\n",
    "`MIN`: Return the minimum value of a column<br>\n",
    "`MAX`: Return the maximum value of a column<br>"
   ]
  },
  {
   "attachments": {},
   "cell_type": "markdown",
   "metadata": {},
   "source": [
    "***"
   ]
  },
  {
   "attachments": {},
   "cell_type": "markdown",
   "metadata": {},
   "source": [
    "## Helpful SQL links\n",
    "- __[SQL in 100 Seconds (Fireship)](https://www.youtube.com/watch?v=zsjvFFKOm3c)__\n",
    "- __[Starting With and Running Jupyter Notebooks (VS Code)](https://code.visualstudio.com/docs/datascience/jupyter-notebooks)__\n",
    "- __[Jupyter markdown cheatsheet (IBM)](https://www.ibm.com/docs/en/watson-studio-local/1.2.3?topic=notebooks-markdown-jupyter-cheatsheet)__\n",
    "- __[Mode SQL tutorial](https://mode.com/sql-tutorial/introduction-to-sql/)__\n",
    "- __[SQLBolt SQL tutorial](https://sqlbolt.com/)__\n",
    "- __[How to create tables in PostgreSQL](https://databasefaqs.com/create-a-table-in-postgresql/)__\n",
    "- __[How to insert a row in PostgreSQL pgAdmin](https://stackoverflow.com/questions/22755230/how-to-insert-a-row-in-postgresql-pgadmin)__\n",
    "- __[How to use VS Code to run SQL on a database](https://www.youtube.com/watch?v=C0y35FpiLRA)__\n",
    "- Next Step: Connect this .ipynb file to pgAdmin"
   ]
  }
 ],
 "metadata": {
  "kernelspec": {
   "display_name": "Python 3.8.6 64-bit ('3.8.6')",
   "language": "python",
   "name": "python3"
  },
  "language_info": {
   "codemirror_mode": {
    "name": "ipython",
    "version": 3
   },
   "file_extension": ".py",
   "mimetype": "text/x-python",
   "name": "python",
   "nbconvert_exporter": "python",
   "pygments_lexer": "ipython3",
   "version": "3.8.6"
  },
  "orig_nbformat": 4,
  "vscode": {
   "interpreter": {
    "hash": "b53c34dc0538ab1f53dc05d0ac84d492291bf9b01f93f7a873a1d1420ea6f988"
   }
  }
 },
 "nbformat": 4,
 "nbformat_minor": 2
}
