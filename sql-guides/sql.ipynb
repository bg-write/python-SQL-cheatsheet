{
 "cells": [
  {
   "cell_type": "markdown",
   "metadata": {},
   "source": [
    "SQL\n",
    "Structured Query Language\n",
    "\n",
    "Pronounced \"sequel\"\n",
    "\n",
    "How we communicate with relational database management systems (RDBMS)\n",
    "The world's most popular databases still run on SQL\n",
    "\n",
    "Popular \"flavors\" of SQL:\n",
    "MySQL\n",
    "PostgreSQL\n",
    "Microsoft SQL Server\n",
    "Oracle\n",
    "\n",
    "Primary Keys (PK): uniquely identify each row in a table\n",
    "Foreign Keys (FK): hold the value of its related parent's PK"
   ]
  },
  {
   "cell_type": "code",
   "execution_count": 2,
   "metadata": {},
   "outputs": [
    {
     "name": "stdout",
     "output_type": "stream",
     "text": [
      "Hello, Jupyter and SQL\n"
     ]
    }
   ],
   "source": [
    "msg = 'Hello, Jupyter and SQL'\n",
    "print(msg)"
   ]
  },
  {
   "cell_type": "markdown",
   "metadata": {},
   "source": [
    "Helpful SQL links\n",
    "SQL in 100 Seconds (Fireship) https://www.youtube.com/watch?v=zsjvFFKOm3c\n",
    "Jupyter Notebooks in VS Code https://code.visualstudio.com/docs/datascience/jupyter-notebooks\n",
    "\n",
    "Thank you, General Assembly!"
   ]
  }
 ],
 "metadata": {
  "kernelspec": {
   "display_name": "Python 3.8.6 64-bit ('3.8.6')",
   "language": "python",
   "name": "python3"
  },
  "language_info": {
   "codemirror_mode": {
    "name": "ipython",
    "version": 3
   },
   "file_extension": ".py",
   "mimetype": "text/x-python",
   "name": "python",
   "nbconvert_exporter": "python",
   "pygments_lexer": "ipython3",
   "version": "3.8.6 (default, Jan 22 2021, 15:06:03) \n[Clang 11.0.3 (clang-1103.0.32.62)]"
  },
  "orig_nbformat": 4,
  "vscode": {
   "interpreter": {
    "hash": "b53c34dc0538ab1f53dc05d0ac84d492291bf9b01f93f7a873a1d1420ea6f988"
   }
  }
 },
 "nbformat": 4,
 "nbformat_minor": 2
}
